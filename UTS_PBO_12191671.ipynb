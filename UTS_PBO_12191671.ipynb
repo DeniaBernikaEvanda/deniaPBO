{
 "cells": [
  {
   "cell_type": "code",
   "execution_count": 8,
   "metadata": {},
   "outputs": [
    {
     "name": "stdout",
     "output_type": "stream",
     "text": [
      "Masukkan Luas Alas :2\n",
      "Masukkan Tinggi Limas :3\n",
      "Volume Limas Segitiga :  1.7999999999999998\n",
      "mau di ulang ? ya\n",
      "Masukkan Luas Alas :5\n",
      "Masukkan Tinggi Limas :7\n",
      "Volume Limas Segitiga :  10.5\n",
      "mau di ulang ? tidak\n",
      "Terimakasih!\n"
     ]
    }
   ],
   "source": [
    "jawab = 'ya'             #untuk perintah kapan perulangan berhenti   \n",
    "while (True):            #perulangan while              \n",
    "    luas_alas = int(input(\"Masukkan Luas Alas :\"))  #input luas alas\n",
    "    tinggi = int(input(\"Masukkan Tinggi Limas :\"))  #input tinggi\n",
    "    \n",
    "    volume = 0.3 * luas_alas * tinggi               #proses mencari volume limas luassegitiga\n",
    "    print(\"Volume Limas Segitiga : \",volume)        #output hasil \n",
    "    jawab = input(\"mau di ulang ? \")                #apakah mau berhenti atau di ulang\n",
    "    if (jawab == 'tidak'):                          # jika tidak maka program berhenti\n",
    "       break                                                 \n",
    "    \n",
    "print (\"Terimakasih!\") "
   ]
  },
  {
   "cell_type": "code",
   "execution_count": null,
   "metadata": {},
   "outputs": [],
   "source": []
  },
  {
   "cell_type": "code",
   "execution_count": null,
   "metadata": {},
   "outputs": [],
   "source": []
  }
 ],
 "metadata": {
  "kernelspec": {
   "display_name": "Python 3",
   "language": "python",
   "name": "python3"
  },
  "language_info": {
   "codemirror_mode": {
    "name": "ipython",
    "version": 3
   },
   "file_extension": ".py",
   "mimetype": "text/x-python",
   "name": "python",
   "nbconvert_exporter": "python",
   "pygments_lexer": "ipython3",
   "version": "3.8.3"
  }
 },
 "nbformat": 4,
 "nbformat_minor": 4
}
